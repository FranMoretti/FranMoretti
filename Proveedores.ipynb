{
  "nbformat": 4,
  "nbformat_minor": 0,
  "metadata": {
    "colab": {
      "provenance": [],
      "authorship_tag": "ABX9TyMLUXrb0k+R8Oi93mjmNFz6",
      "include_colab_link": true
    },
    "kernelspec": {
      "name": "python3",
      "display_name": "Python 3"
    },
    "language_info": {
      "name": "python"
    }
  },
  "cells": [
    {
      "cell_type": "markdown",
      "metadata": {
        "id": "view-in-github",
        "colab_type": "text"
      },
      "source": [
        "<a href=\"https://colab.research.google.com/github/FranMoretti/FranMoretti/blob/main/Proveedores.ipynb\" target=\"_parent\"><img src=\"https://colab.research.google.com/assets/colab-badge.svg\" alt=\"Open In Colab\"/></a>"
      ]
    },
    {
      "cell_type": "code",
      "execution_count": null,
      "metadata": {
        "id": "Yf1B3SkrkU96"
      },
      "outputs": [],
      "source": [
        "# Primero, asegúrate de tener las bibliotecas necesarias\n",
        "import pandas as pd\n",
        "import numpy as np\n",
        "\n",
        "# Carga el archivo Excel\n",
        "file_path = '30500010912 - BNA.xlsx'  # Ajusta la ruta según tu archivo\n",
        "df = pd.read_excel(file_path)"
      ]
    },
    {
      "cell_type": "code",
      "source": [
        "# 1) Top 10 de mayores montos por 'CPR CUIT VDOR APRO' según la columna 'CPR TOT OPE'\n",
        "top_10_montos = df.groupby('CPR CUIT VDOR APRO').agg({'CPR TOT OPE': 'sum', 'CPR NOMBRE VDOR': 'first'}).reset_index()\n",
        "top_10_montos = top_10_montos.sort_values(by='CPR TOT OPE', ascending=False).head(10)\n",
        "top_10_montos['Cantidad de registros'] = df.groupby('CPR CUIT VDOR APRO').size().reset_index(name='Cantidad')['Cantidad']\n",
        "top_10_montos['Monto $'] = top_10_montos['CPR TOT OPE']\n",
        "top_10_montos = top_10_montos[['CPR CUIT VDOR APRO', 'CPR NOMBRE VDOR', 'Cantidad de registros', 'Monto $']]\n",
        "top_10_montos.index = range(1, len(top_10_montos) + 1)\n",
        "top_10_montos['Monto $'] = top_10_montos['Monto $'].apply(lambda x: f'${x:,.2f}')\n",
        "\n",
        "# 2) Top 10 de mayores cantidades de registros, excluyendo los 'CPR CUIT VDOR APRO' ya en top_10_montos\n",
        "top_10_cantidades = df.groupby('CPR CUIT VDOR APRO').size().reset_index(name='Cantidad')\n",
        "top_10_cantidades = top_10_cantidades[~top_10_cantidades['CPR CUIT VDOR APRO'].isin(top_10_montos['CPR CUIT VDOR APRO'])]\n",
        "top_10_cantidades = top_10_cantidades.sort_values(by='Cantidad', ascending=False).head(10)\n",
        "top_10_cantidades['Monto $'] = df.groupby('CPR CUIT VDOR APRO')['CPR TOT OPE'].sum().reset_index(name='CPR TOT OPE')['CPR TOT OPE']\n",
        "top_10_cantidades['CPR NOMBRE VDOR'] = df.groupby('CPR CUIT VDOR APRO')['CPR NOMBRE VDOR'].first().reset_index(name='CPR NOMBRE VDOR')['CPR NOMBRE VDOR']\n",
        "top_10_cantidades = top_10_cantidades[['CPR CUIT VDOR APRO', 'CPR NOMBRE VDOR', 'Cantidad', 'Monto $']]\n",
        "top_10_cantidades.index = range(1, len(top_10_cantidades) + 1)\n",
        "top_10_cantidades['Monto $'] = top_10_cantidades['Monto $'].apply(lambda x: f'${x:,.2f}')\n",
        "\n",
        "# 3) Top 5 de clientes más habituales, con registros en 9 o 10 períodos, ordenado por monto\n",
        "# Agrupación por cliente y período\n",
        "clientes_habituales = df.groupby(['CPR CUIT VDOR APRO', 'PERIODO'])['CPR TOT OPE'].sum().reset_index()\n",
        "# Contar períodos únicos por cliente\n",
        "clientes_habituales_count = clientes_habituales.groupby('CPR CUIT VDOR APRO')['PERIODO'].nunique().reset_index()\n",
        "clientes_habituales_count.columns = ['CPR CUIT VDOR APRO', 'Periodos unicos']\n",
        "# Filtrar clientes con 9 o más períodos únicos\n",
        "clientes_habituales_count = clientes_habituales_count[clientes_habituales_count['Periodos unicos'] >= 9]\n",
        "# Calcular el monto total por cliente\n",
        "clientes_habituales_monto = df.groupby('CPR CUIT VDOR APRO')['CPR TOT OPE'].sum().reset_index()\n",
        "clientes_habituales_monto.columns = ['CPR CUIT VDOR APRO', 'Monto $']\n",
        "# Unir con los nombres y contar registros\n",
        "clientes_habituales = clientes_habituales_count.merge(clientes_habituales_monto, on='CPR CUIT VDOR APRO')\n",
        "# Crear diccionario único para 'CPR NOMBRE VDOR'\n",
        "nombre_dict = df[['CPR CUIT VDOR APRO', 'CPR NOMBRE VDOR']].drop_duplicates().set_index('CPR CUIT VDOR APRO')['CPR NOMBRE VDOR'].to_dict()\n",
        "# Mapear los nombres usando el diccionario\n",
        "clientes_habituales['CPR NOMBRE VDOR'] = clientes_habituales['CPR CUIT VDOR APRO'].map(nombre_dict)\n",
        "# Calcular cantidad de registros por cliente\n",
        "clientes_habituales['Cantidad de registros'] = df.groupby('CPR CUIT VDOR APRO').size().reindex(clientes_habituales['CPR CUIT VDOR APRO']).values\n",
        "# Excluir clientes ya presentes en top 10 montos y top 10 cantidades\n",
        "excluir = set(top_10_montos['CPR CUIT VDOR APRO']).union(set(top_10_cantidades['CPR CUIT VDOR APRO']))\n",
        "clientes_habituales = clientes_habituales[~clientes_habituales['CPR CUIT VDOR APRO'].isin(excluir)]\n",
        "# Seleccionar el top 5 por monto\n",
        "clientes_habituales = clientes_habituales.sort_values(by='Monto $', ascending=False).head(5)\n",
        "# Reordenar y aplicar formato\n",
        "clientes_habituales = clientes_habituales[['CPR CUIT VDOR APRO', 'CPR NOMBRE VDOR', 'Cantidad de registros', 'Monto $']]\n",
        "clientes_habituales.index = range(1, len(clientes_habituales) + 1)\n",
        "clientes_habituales['Monto $'] = clientes_habituales['Monto $'].apply(lambda x: f'${x:,.2f}')\n",
        "\n",
        "\n",
        "# 4) Top 5 de clientes menos habituales, con registros en solo 1 o 2 períodos, ordenado por monto\n",
        "# Agrupación por cliente y período\n",
        "clientes_no_habituales = df.groupby(['CPR CUIT VDOR APRO', 'PERIODO'])['CPR TOT OPE'].sum().reset_index()\n",
        "# Contar períodos únicos por cliente\n",
        "clientes_no_habituales_count = clientes_no_habituales.groupby('CPR CUIT VDOR APRO')['PERIODO'].nunique().reset_index()\n",
        "clientes_no_habituales_count.columns = ['CPR CUIT VDOR APRO', 'Periodos unicos']\n",
        "# Filtrar clientes con 1 o 2 períodos únicos\n",
        "clientes_no_habituales_count = clientes_no_habituales_count[clientes_no_habituales_count['Periodos unicos'] <= 2]\n",
        "# Calcular el monto total por cliente\n",
        "clientes_no_habituales_monto = df.groupby('CPR CUIT VDOR APRO')['CPR TOT OPE'].sum().reset_index()\n",
        "clientes_no_habituales_monto.columns = ['CPR CUIT VDOR APRO', 'Monto $']\n",
        "# Unir con los nombres y contar registros\n",
        "clientes_no_habituales = clientes_no_habituales_count.merge(clientes_no_habituales_monto, on='CPR CUIT VDOR APRO')\n",
        "# Crear diccionario único para 'CPR NOMBRE VDOR'\n",
        "nombre_dict = df[['CPR CUIT VDOR APRO', 'CPR NOMBRE VDOR']].drop_duplicates().set_index('CPR CUIT VDOR APRO')['CPR NOMBRE VDOR'].to_dict()\n",
        "# Mapear los nombres usando el diccionario\n",
        "clientes_no_habituales['CPR NOMBRE VDOR'] = clientes_no_habituales['CPR CUIT VDOR APRO'].map(nombre_dict)\n",
        "# Calcular cantidad de registros por cliente\n",
        "clientes_no_habituales['Cantidad de registros'] = df.groupby('CPR CUIT VDOR APRO').size().reindex(clientes_no_habituales['CPR CUIT VDOR APRO']).values\n",
        "# Excluir clientes ya presentes en top 10 montos, top 10 cantidades y top 5 habituales\n",
        "excluir = set(top_10_montos['CPR CUIT VDOR APRO']).union(set(top_10_cantidades['CPR CUIT VDOR APRO'])).union(set(clientes_habituales['CPR CUIT VDOR APRO']))\n",
        "clientes_no_habituales = clientes_no_habituales[~clientes_no_habituales['CPR CUIT VDOR APRO'].isin(excluir)]\n",
        "# Seleccionar el top 5 por monto\n",
        "clientes_no_habituales = clientes_no_habituales.sort_values(by='Monto $', ascending=False).head(5)\n",
        "# Reordenar y aplicar formato\n",
        "clientes_no_habituales = clientes_no_habituales[['CPR CUIT VDOR APRO', 'CPR NOMBRE VDOR', 'Cantidad de registros', 'Monto $']]\n",
        "clientes_no_habituales.index = range(1, len(clientes_no_habituales) + 1)\n",
        "clientes_no_habituales['Monto $'] = clientes_no_habituales['Monto $'].apply(lambda x: f'${x:,.2f}')"
      ],
      "metadata": {
        "id": "i2PaG8XvEvO4"
      },
      "execution_count": null,
      "outputs": []
    },
    {
      "cell_type": "code",
      "source": [
        "top_10_montos"
      ],
      "metadata": {
        "id": "5rI2cSEbEy8g"
      },
      "execution_count": null,
      "outputs": []
    },
    {
      "cell_type": "code",
      "source": [
        "top_10_cantidades"
      ],
      "metadata": {
        "id": "E2OdVOL4E0nH"
      },
      "execution_count": null,
      "outputs": []
    },
    {
      "cell_type": "code",
      "source": [
        "clientes_habituales"
      ],
      "metadata": {
        "id": "rHgqY5ABE1jx"
      },
      "execution_count": null,
      "outputs": []
    },
    {
      "cell_type": "code",
      "source": [
        "clientes_no_habituales"
      ],
      "metadata": {
        "id": "vaOM58vME2o4"
      },
      "execution_count": null,
      "outputs": []
    }
  ]
}