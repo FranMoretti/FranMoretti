{
  "nbformat": 4,
  "nbformat_minor": 0,
  "metadata": {
    "colab": {
      "provenance": [],
      "include_colab_link": true
    },
    "kernelspec": {
      "display_name": "Python 3",
      "name": "python3"
    }
  },
  "cells": [
    {
      "cell_type": "markdown",
      "metadata": {
        "id": "view-in-github",
        "colab_type": "text"
      },
      "source": [
        "<a href=\"https://colab.research.google.com/github/FranMoretti/FranMoretti/blob/main/proveedores.ipynb\" target=\"_parent\"><img src=\"https://colab.research.google.com/assets/colab-badge.svg\" alt=\"Open In Colab\"/></a>"
      ]
    },
    {
      "cell_type": "code",
      "source": [
        "# Primero, asegúrate de tener las bibliotecas necesarias\n",
        "import pandas as pd\n",
        "import numpy as np\n",
        "\n",
        "# Carga el archivo Excel\n",
        "file_path = '30500010912 - BNA.xlsx'  # Ajusta la ruta según tu archivo\n",
        "df = pd.read_excel(file_path)\n"
      ],
      "metadata": {
        "id": "pvuKZGN2Xj7l"
      },
      "execution_count": null,
      "outputs": []
    },
    {
      "cell_type": "code",
      "source": [
        "# 1) Top 10 de mayores montos por 'CPR CUIT VDOR APRO' según la columna 'CPR TOT OPE'\n",
        "top_10_montos = df.groupby('CPR CUIT VDOR APRO').agg({'CPR TOT OPE': 'sum', 'CPR NOMBRE VDOR': 'first'}).reset_index()\n",
        "top_10_montos = top_10_montos.sort_values(by='CPR TOT OPE', ascending=False).head(10)\n",
        "top_10_montos['Cantidad de registros'] = df.groupby('CPR CUIT VDOR APRO').size().reset_index(name='Cantidad')['Cantidad']\n",
        "top_10_montos['Monto $'] = top_10_montos['CPR TOT OPE']\n",
        "top_10_montos = top_10_montos[['CPR CUIT VDOR APRO', 'CPR NOMBRE VDOR', 'Cantidad de registros', 'Monto $']]\n",
        "top_10_montos.index = range(1, len(top_10_montos) + 1)\n",
        "\n",
        "# 2) Top 10 de mayores cantidades de registros, excluyendo los 'CPR CUIT VDOR APRO' ya en top_10_montos\n",
        "top_10_cantidades = df.groupby('CPR CUIT VDOR APRO').size().reset_index(name='Cantidad')\n",
        "top_10_cantidades = top_10_cantidades[~top_10_cantidades['CPR CUIT VDOR APRO'].isin(top_10_montos['CPR CUIT VDOR APRO'])]\n",
        "top_10_cantidades = top_10_cantidades.sort_values(by='Cantidad', ascending=False).head(10)\n",
        "top_10_cantidades['Monto $'] = df.groupby('CPR CUIT VDOR APRO')['CPR TOT OPE'].sum().reset_index(name='CPR TOT OPE')['CPR TOT OPE']\n",
        "top_10_cantidades['CPR NOMBRE VDOR'] = df.groupby('CPR CUIT VDOR APRO')['CPR NOMBRE VDOR'].first().reset_index(name='CPR NOMBRE VDOR')['CPR NOMBRE VDOR']\n",
        "top_10_cantidades = top_10_cantidades[['CPR CUIT VDOR APRO', 'CPR NOMBRE VDOR', 'Cantidad', 'Monto $']]\n",
        "top_10_cantidades.index = range(1, len(top_10_cantidades) + 1)\n",
        "\n",
        "# 3) Top 5 de clientes más habituales, con registros en 9 o 10 períodos, ordenado por monto\n",
        "clientes_habituales = df.groupby(['CPR CUIT VDOR APRO', 'PERIODO'])['CPR TOT OPE'].sum().reset_index()\n",
        "clientes_habituales_count = clientes_habituales.groupby('CPR CUIT VDOR APRO')['PERIODO'].nunique().reset_index()\n",
        "clientes_habituales_count = clientes_habituales_count[clientes_habituales_count['PERIODO'] >= 9]\n",
        "clientes_habituales = clientes_habituales[clientes_habituales['CPR CUIT VDOR APRO'].isin(clientes_habituales_count['CPR CUIT VDOR APRO'])]\n",
        "clientes_habituales = clientes_habituales.groupby('CPR CUIT VDOR APRO')['CPR TOT OPE'].sum().reset_index()\n",
        "clientes_habituales['CPR NOMBRE VDOR'] = df.groupby('CPR CUIT VDOR APRO')['CPR NOMBRE VDOR'].first().reset_index(name='CPR NOMBRE VDOR')['CPR NOMBRE VDOR']\n",
        "clientes_habituales = clientes_habituales.sort_values(by='CPR TOT OPE', ascending=False).head(5)\n",
        "clientes_habituales['Cantidad de registros'] = df.groupby('CPR CUIT VDOR APRO').size().reset_index(name='Cantidad')['Cantidad']\n",
        "clientes_habituales['Monto $'] = clientes_habituales['CPR TOT OPE']\n",
        "clientes_habituales = clientes_habituales[['CPR CUIT VDOR APRO', 'CPR NOMBRE VDOR', 'Cantidad de registros', 'Monto $']]\n",
        "clientes_habituales.index = range(1, len(clientes_habituales) + 1)\n",
        "\n",
        "# 4) Top 5 de clientes menos habituales, con registros en solo 1 o 2 períodos, ordenado por monto\n",
        "clientes_menos_habituales = df.groupby(['CPR CUIT VDOR APRO', 'PERIODO'])['CPR TOT OPE'].sum().reset_index()\n",
        "clientes_menos_habituales_count = clientes_menos_habituales.groupby('CPR CUIT VDOR APRO')['PERIODO'].nunique().reset_index()\n",
        "clientes_menos_habituales_count = clientes_menos_habituales_count[clientes_menos_habituales_count['PERIODO'] <= 2]\n",
        "clientes_menos_habituales = clientes_menos_habituales[clientes_menos_habituales['CPR CUIT VDOR APRO'].isin(clientes_menos_habituales_count['CPR CUIT VDOR APRO'])]\n",
        "clientes_menos_habituales = clientes_menos_habituales.groupby('CPR CUIT VDOR APRO')['CPR TOT OPE'].sum().reset_index()\n",
        "clientes_menos_habituales['CPR NOMBRE VDOR'] = df.groupby('CPR CUIT VDOR APRO')['CPR NOMBRE VDOR'].first().reset_index(name='CPR NOMBRE VDOR')['CPR NOMBRE VDOR']\n",
        "clientes_menos_habituales = clientes_menos_habituales.sort_values(by='CPR TOT OPE', ascending=False).head(5)\n",
        "clientes_menos_habituales['Cantidad de registros'] = df.groupby('CPR CUIT VDOR APRO').size().reset_index(name='Cantidad')['Cantidad']\n",
        "clientes_menos_habituales['Monto $'] = clientes_menos_habituales['CPR TOT OPE']\n",
        "clientes_menos_habituales = clientes_menos_habituales[['CPR CUIT VDOR APRO', 'CPR NOMBRE VDOR', 'Cantidad de registros', 'Monto $']]\n",
        "clientes_menos_habituales.index = range(1, len(clientes_menos_habituales) + 1)\n",
        "\n",
        "# Formato de tabla y formato de moneda con 2 decimales\n",
        "def format_monto(df):\n",
        "    df['Monto $'] = df['Monto $'].apply(lambda x: f'${x:,.2f}')\n",
        "    return df\n",
        "\n",
        "top_10_montos = format_monto(top_10_montos)\n",
        "top_10_cantidades = format_monto(top_10_cantidades)\n",
        "clientes_habituales = format_monto(clientes_habituales)\n",
        "clientes_menos_habituales = format_monto(clientes_menos_habituales)\n",
        "\n",
        "# Mostrar resultados con formato de tabla\n",
        "print(\"Top 10 mayores montos:\")\n",
        "print(top_10_montos.to_string(index=True))\n",
        "print(\"\\nTop 10 mayores cantidades de registros:\")\n",
        "print(top_10_cantidades.to_string(index=True))\n",
        "print(\"\\nTop 5 clientes más habituales:\")\n",
        "print(clientes_habituales.to_string(index=True))\n",
        "print(\"\\nTop 5 clientes menos habituales:\")\n",
        "print(clientes_menos_habituales.to_string(index=True))\n"
      ],
      "metadata": {
        "id": "V2_sfVHaVBQf",
        "outputId": "858ccc44-69d3-41b4-de43-cf541587166f",
        "colab": {
          "base_uri": "https://localhost:8080/"
        }
      },
      "execution_count": 27,
      "outputs": [
        {
          "output_type": "stream",
          "name": "stdout",
          "text": [
            "Top 10 mayores montos:\n",
            "    CPR CUIT VDOR APRO                 CPR NOMBRE VDOR  Cantidad de registros              Monto $\n",
            "1          30522211563      FIRST DATA CONO SUR S.R.L.                    937  $139,597,253,928.74\n",
            "2          33629749859                     RED LINK SA                    390   $62,884,262,339.45\n",
            "3          30709872156      MASTERCARD CONO SUR S.R.L.                     98   $52,361,297,689.42\n",
            "4          30678561165               NACION SEGUROS SA                    258   $23,877,852,851.15\n",
            "5          33621364559           NACION SERVICIOS S.A.                   1902   $18,478,765,658.57\n",
            "6          30598910045      PRISMA MEDIOS DE PAGO S.A.                    819   $17,047,604,987.16\n",
            "7          30503961268            IBM ARGENTINA S.R.L.                     61   $15,920,300,265.28\n",
            "8          30641405554      AEROLINEAS ARGENTINAS S.A.                     25   $14,809,450,631.27\n",
            "9          30708574836  CORREO OFICIAL DE LA REPUBLICA                   5167   $12,703,262,546.27\n",
            "10         30999074843        MUNICIPALIDAD DE CORDOBA                    139   $11,445,375,063.13\n",
            "\n",
            "Top 10 mayores cantidades de registros:\n",
            "    CPR CUIT VDOR APRO                 CPR NOMBRE VDOR  Cantidad            Monto $\n",
            "1          30639453738          TELECOM ARGENTINA S.A.      6146    $377,680,677.92\n",
            "2          30678814357  TELEFONICA MOVILES ARGENTINA S      4056  $4,369,407,599.18\n",
            "3          30999256577  POLICIA DE LA PROVINCIA DE COR      3367  $3,044,771,407.60\n",
            "4          30648839088  POLICIA DE LA PROVINCIA DE BUE      2903  $2,350,291,629.90\n",
            "5          30999018447  MINISTERIO DE GOBIERNO JUSTICI      1659    $595,837,203.58\n",
            "6          20259547025           GAMARRA LUIS FERNANDO      1636    $449,479,223.34\n",
            "7          30662109602  OPTAR OP MAY DE SERV TURIST SA      1503    $417,902,355.87\n",
            "8          30716619016             NUEVO SERVIS S.A.S.      1411    $739,635,295.55\n",
            "9          30657864281       CAMUZZI GAS PAMPEANA S.A.      1378    $141,969,296.39\n",
            "10         30708206624          BRIEFING SECURITY S.A.      1257  $3,507,282,269.95\n",
            "\n",
            "Top 5 clientes más habituales:\n",
            "   CPR CUIT VDOR APRO            CPR NOMBRE VDOR  Cantidad de registros              Monto $\n",
            "1         30522211563            MANZANO RICARDO                     10  $139,597,253,928.74\n",
            "2         33629749859   ANDREONI ROBERTO MARCELO                      2   $62,884,262,339.45\n",
            "3         30709872156  INFORMACION NO DISPONIBLE                      1   $52,361,297,689.42\n",
            "4         30678561165     ARGUELLO CLAUDIO OSCAR                      1   $23,877,852,851.15\n",
            "5         33621364559     ITURRIETA JUAN GERARDO                     30   $18,478,765,658.57\n",
            "\n",
            "Top 5 clientes menos habituales:\n",
            "   CPR CUIT VDOR APRO                 CPR NOMBRE VDOR  Cantidad de registros            Monto $\n",
            "1         30711512302                  ANTUNOVICH IVA                      2  $2,570,144,926.90\n",
            "2         30716609584              DIAS SANDRA AMELIA                      4  $1,357,401,265.19\n",
            "3         33708630409  RESINA FABIANA MARIELA DEL VAL                      1  $1,246,546,600.82\n",
            "4         30711291969              GUIZZARDI OLGA EVA                     20  $1,093,566,237.21\n",
            "5         30711133972              MANERA ANGELA ROSA                     10    $841,004,141.45\n"
          ]
        }
      ]
    },
    {
      "cell_type": "code",
      "source": [],
      "metadata": {
        "id": "NYzdD9TNVBDX"
      },
      "execution_count": null,
      "outputs": []
    },
    {
      "cell_type": "code",
      "metadata": {
        "id": "L2ZKbidfO_d7"
      },
      "source": [
        "! pip install lightfm > /dev/null\n",
        "# necesita python 3.10"
      ],
      "execution_count": 1,
      "outputs": []
    },
    {
      "cell_type": "code",
      "metadata": {
        "id": "9oDZE6gPPJD6"
      },
      "source": [
        "import lightfm as lfm\n",
        "from lightfm import data\n",
        "from lightfm import cross_validation\n",
        "from lightfm import evaluation\n",
        "import pandas as pd\n",
        "import numpy as np\n",
        "import sqlite3"
      ],
      "execution_count": 2,
      "outputs": []
    },
    {
      "cell_type": "code",
      "metadata": {
        "id": "rwc_-d1rsw38",
        "colab": {
          "base_uri": "https://localhost:8080/",
          "height": 206
        },
        "outputId": "78eefdf7-fd77-41e6-90c1-7918e943a36a"
      },
      "source": [
        "conn = sqlite3.connect('data.db')\n",
        "\n",
        "df_int = pd.read_sql_query(\"SELECT * FROM interacciones\", conn) #  WHERE rating >= 7\n",
        "#EL WHERE LO PONE PORQUE ESTE MODELO LE DA LO MISMO UN 1 QUE UN 10, A AMBOS LE ASIGNA 1, ASIGNA CERO A LOS QUE NO TIENEN INTERACCIONES\n",
        "#ESTE MODELO REEMPLAZA SURPRISE\n",
        "#ES UNA ESPECIE DE FILTRADO COLABORATIVO\n",
        "#puedo usar este modelo y guardarlo en pickle por ejemplo\n",
        "#ACÁ ESTÁ HECHO PARA ITEMS, PUEDO HACERLO TAMBIÉN PARA USERS\n",
        "df_int.head()"
      ],
      "execution_count": 3,
      "outputs": [
        {
          "output_type": "execute_result",
          "data": {
            "text/plain": [
              "         id_lector                id_libro         fecha  rating\n",
              "0             yura      -incluso-el-olvido   hace 8 años       6\n",
              "1       albertofg1  1080-recetas-de-cocina   hace 4 años       9\n",
              "2            trini  1080-recetas-de-cocina  hace 12 años      10\n",
              "3        chicarela         11-4-suenos-luz   hace 4 años       9\n",
              "4  jorge-knowles-5             13-99-euros  hace 10 años       9"
            ],
            "text/html": [
              "\n",
              "  <div id=\"df-2e32d36a-ba5c-4946-ae3e-47378ce8e1b2\" class=\"colab-df-container\">\n",
              "    <div>\n",
              "<style scoped>\n",
              "    .dataframe tbody tr th:only-of-type {\n",
              "        vertical-align: middle;\n",
              "    }\n",
              "\n",
              "    .dataframe tbody tr th {\n",
              "        vertical-align: top;\n",
              "    }\n",
              "\n",
              "    .dataframe thead th {\n",
              "        text-align: right;\n",
              "    }\n",
              "</style>\n",
              "<table border=\"1\" class=\"dataframe\">\n",
              "  <thead>\n",
              "    <tr style=\"text-align: right;\">\n",
              "      <th></th>\n",
              "      <th>id_lector</th>\n",
              "      <th>id_libro</th>\n",
              "      <th>fecha</th>\n",
              "      <th>rating</th>\n",
              "    </tr>\n",
              "  </thead>\n",
              "  <tbody>\n",
              "    <tr>\n",
              "      <th>0</th>\n",
              "      <td>yura</td>\n",
              "      <td>-incluso-el-olvido</td>\n",
              "      <td>hace 8 años</td>\n",
              "      <td>6</td>\n",
              "    </tr>\n",
              "    <tr>\n",
              "      <th>1</th>\n",
              "      <td>albertofg1</td>\n",
              "      <td>1080-recetas-de-cocina</td>\n",
              "      <td>hace 4 años</td>\n",
              "      <td>9</td>\n",
              "    </tr>\n",
              "    <tr>\n",
              "      <th>2</th>\n",
              "      <td>trini</td>\n",
              "      <td>1080-recetas-de-cocina</td>\n",
              "      <td>hace 12 años</td>\n",
              "      <td>10</td>\n",
              "    </tr>\n",
              "    <tr>\n",
              "      <th>3</th>\n",
              "      <td>chicarela</td>\n",
              "      <td>11-4-suenos-luz</td>\n",
              "      <td>hace 4 años</td>\n",
              "      <td>9</td>\n",
              "    </tr>\n",
              "    <tr>\n",
              "      <th>4</th>\n",
              "      <td>jorge-knowles-5</td>\n",
              "      <td>13-99-euros</td>\n",
              "      <td>hace 10 años</td>\n",
              "      <td>9</td>\n",
              "    </tr>\n",
              "  </tbody>\n",
              "</table>\n",
              "</div>\n",
              "    <div class=\"colab-df-buttons\">\n",
              "\n",
              "  <div class=\"colab-df-container\">\n",
              "    <button class=\"colab-df-convert\" onclick=\"convertToInteractive('df-2e32d36a-ba5c-4946-ae3e-47378ce8e1b2')\"\n",
              "            title=\"Convert this dataframe to an interactive table.\"\n",
              "            style=\"display:none;\">\n",
              "\n",
              "  <svg xmlns=\"http://www.w3.org/2000/svg\" height=\"24px\" viewBox=\"0 -960 960 960\">\n",
              "    <path d=\"M120-120v-720h720v720H120Zm60-500h600v-160H180v160Zm220 220h160v-160H400v160Zm0 220h160v-160H400v160ZM180-400h160v-160H180v160Zm440 0h160v-160H620v160ZM180-180h160v-160H180v160Zm440 0h160v-160H620v160Z\"/>\n",
              "  </svg>\n",
              "    </button>\n",
              "\n",
              "  <style>\n",
              "    .colab-df-container {\n",
              "      display:flex;\n",
              "      gap: 12px;\n",
              "    }\n",
              "\n",
              "    .colab-df-convert {\n",
              "      background-color: #E8F0FE;\n",
              "      border: none;\n",
              "      border-radius: 50%;\n",
              "      cursor: pointer;\n",
              "      display: none;\n",
              "      fill: #1967D2;\n",
              "      height: 32px;\n",
              "      padding: 0 0 0 0;\n",
              "      width: 32px;\n",
              "    }\n",
              "\n",
              "    .colab-df-convert:hover {\n",
              "      background-color: #E2EBFA;\n",
              "      box-shadow: 0px 1px 2px rgba(60, 64, 67, 0.3), 0px 1px 3px 1px rgba(60, 64, 67, 0.15);\n",
              "      fill: #174EA6;\n",
              "    }\n",
              "\n",
              "    .colab-df-buttons div {\n",
              "      margin-bottom: 4px;\n",
              "    }\n",
              "\n",
              "    [theme=dark] .colab-df-convert {\n",
              "      background-color: #3B4455;\n",
              "      fill: #D2E3FC;\n",
              "    }\n",
              "\n",
              "    [theme=dark] .colab-df-convert:hover {\n",
              "      background-color: #434B5C;\n",
              "      box-shadow: 0px 1px 3px 1px rgba(0, 0, 0, 0.15);\n",
              "      filter: drop-shadow(0px 1px 2px rgba(0, 0, 0, 0.3));\n",
              "      fill: #FFFFFF;\n",
              "    }\n",
              "  </style>\n",
              "\n",
              "    <script>\n",
              "      const buttonEl =\n",
              "        document.querySelector('#df-2e32d36a-ba5c-4946-ae3e-47378ce8e1b2 button.colab-df-convert');\n",
              "      buttonEl.style.display =\n",
              "        google.colab.kernel.accessAllowed ? 'block' : 'none';\n",
              "\n",
              "      async function convertToInteractive(key) {\n",
              "        const element = document.querySelector('#df-2e32d36a-ba5c-4946-ae3e-47378ce8e1b2');\n",
              "        const dataTable =\n",
              "          await google.colab.kernel.invokeFunction('convertToInteractive',\n",
              "                                                    [key], {});\n",
              "        if (!dataTable) return;\n",
              "\n",
              "        const docLinkHtml = 'Like what you see? Visit the ' +\n",
              "          '<a target=\"_blank\" href=https://colab.research.google.com/notebooks/data_table.ipynb>data table notebook</a>'\n",
              "          + ' to learn more about interactive tables.';\n",
              "        element.innerHTML = '';\n",
              "        dataTable['output_type'] = 'display_data';\n",
              "        await google.colab.output.renderOutput(dataTable, element);\n",
              "        const docLink = document.createElement('div');\n",
              "        docLink.innerHTML = docLinkHtml;\n",
              "        element.appendChild(docLink);\n",
              "      }\n",
              "    </script>\n",
              "  </div>\n",
              "\n",
              "\n",
              "<div id=\"df-b293eec6-8da6-47c4-9e33-6ec756ea54a4\">\n",
              "  <button class=\"colab-df-quickchart\" onclick=\"quickchart('df-b293eec6-8da6-47c4-9e33-6ec756ea54a4')\"\n",
              "            title=\"Suggest charts\"\n",
              "            style=\"display:none;\">\n",
              "\n",
              "<svg xmlns=\"http://www.w3.org/2000/svg\" height=\"24px\"viewBox=\"0 0 24 24\"\n",
              "     width=\"24px\">\n",
              "    <g>\n",
              "        <path d=\"M19 3H5c-1.1 0-2 .9-2 2v14c0 1.1.9 2 2 2h14c1.1 0 2-.9 2-2V5c0-1.1-.9-2-2-2zM9 17H7v-7h2v7zm4 0h-2V7h2v10zm4 0h-2v-4h2v4z\"/>\n",
              "    </g>\n",
              "</svg>\n",
              "  </button>\n",
              "\n",
              "<style>\n",
              "  .colab-df-quickchart {\n",
              "      --bg-color: #E8F0FE;\n",
              "      --fill-color: #1967D2;\n",
              "      --hover-bg-color: #E2EBFA;\n",
              "      --hover-fill-color: #174EA6;\n",
              "      --disabled-fill-color: #AAA;\n",
              "      --disabled-bg-color: #DDD;\n",
              "  }\n",
              "\n",
              "  [theme=dark] .colab-df-quickchart {\n",
              "      --bg-color: #3B4455;\n",
              "      --fill-color: #D2E3FC;\n",
              "      --hover-bg-color: #434B5C;\n",
              "      --hover-fill-color: #FFFFFF;\n",
              "      --disabled-bg-color: #3B4455;\n",
              "      --disabled-fill-color: #666;\n",
              "  }\n",
              "\n",
              "  .colab-df-quickchart {\n",
              "    background-color: var(--bg-color);\n",
              "    border: none;\n",
              "    border-radius: 50%;\n",
              "    cursor: pointer;\n",
              "    display: none;\n",
              "    fill: var(--fill-color);\n",
              "    height: 32px;\n",
              "    padding: 0;\n",
              "    width: 32px;\n",
              "  }\n",
              "\n",
              "  .colab-df-quickchart:hover {\n",
              "    background-color: var(--hover-bg-color);\n",
              "    box-shadow: 0 1px 2px rgba(60, 64, 67, 0.3), 0 1px 3px 1px rgba(60, 64, 67, 0.15);\n",
              "    fill: var(--button-hover-fill-color);\n",
              "  }\n",
              "\n",
              "  .colab-df-quickchart-complete:disabled,\n",
              "  .colab-df-quickchart-complete:disabled:hover {\n",
              "    background-color: var(--disabled-bg-color);\n",
              "    fill: var(--disabled-fill-color);\n",
              "    box-shadow: none;\n",
              "  }\n",
              "\n",
              "  .colab-df-spinner {\n",
              "    border: 2px solid var(--fill-color);\n",
              "    border-color: transparent;\n",
              "    border-bottom-color: var(--fill-color);\n",
              "    animation:\n",
              "      spin 1s steps(1) infinite;\n",
              "  }\n",
              "\n",
              "  @keyframes spin {\n",
              "    0% {\n",
              "      border-color: transparent;\n",
              "      border-bottom-color: var(--fill-color);\n",
              "      border-left-color: var(--fill-color);\n",
              "    }\n",
              "    20% {\n",
              "      border-color: transparent;\n",
              "      border-left-color: var(--fill-color);\n",
              "      border-top-color: var(--fill-color);\n",
              "    }\n",
              "    30% {\n",
              "      border-color: transparent;\n",
              "      border-left-color: var(--fill-color);\n",
              "      border-top-color: var(--fill-color);\n",
              "      border-right-color: var(--fill-color);\n",
              "    }\n",
              "    40% {\n",
              "      border-color: transparent;\n",
              "      border-right-color: var(--fill-color);\n",
              "      border-top-color: var(--fill-color);\n",
              "    }\n",
              "    60% {\n",
              "      border-color: transparent;\n",
              "      border-right-color: var(--fill-color);\n",
              "    }\n",
              "    80% {\n",
              "      border-color: transparent;\n",
              "      border-right-color: var(--fill-color);\n",
              "      border-bottom-color: var(--fill-color);\n",
              "    }\n",
              "    90% {\n",
              "      border-color: transparent;\n",
              "      border-bottom-color: var(--fill-color);\n",
              "    }\n",
              "  }\n",
              "</style>\n",
              "\n",
              "  <script>\n",
              "    async function quickchart(key) {\n",
              "      const quickchartButtonEl =\n",
              "        document.querySelector('#' + key + ' button');\n",
              "      quickchartButtonEl.disabled = true;  // To prevent multiple clicks.\n",
              "      quickchartButtonEl.classList.add('colab-df-spinner');\n",
              "      try {\n",
              "        const charts = await google.colab.kernel.invokeFunction(\n",
              "            'suggestCharts', [key], {});\n",
              "      } catch (error) {\n",
              "        console.error('Error during call to suggestCharts:', error);\n",
              "      }\n",
              "      quickchartButtonEl.classList.remove('colab-df-spinner');\n",
              "      quickchartButtonEl.classList.add('colab-df-quickchart-complete');\n",
              "    }\n",
              "    (() => {\n",
              "      let quickchartButtonEl =\n",
              "        document.querySelector('#df-b293eec6-8da6-47c4-9e33-6ec756ea54a4 button');\n",
              "      quickchartButtonEl.style.display =\n",
              "        google.colab.kernel.accessAllowed ? 'block' : 'none';\n",
              "    })();\n",
              "  </script>\n",
              "</div>\n",
              "\n",
              "    </div>\n",
              "  </div>\n"
            ],
            "application/vnd.google.colaboratory.intrinsic+json": {
              "type": "dataframe",
              "variable_name": "df_int"
            }
          },
          "metadata": {},
          "execution_count": 3
        }
      ]
    },
    {
      "cell_type": "code",
      "metadata": {
        "id": "L33eZ78iPSKp",
        "colab": {
          "base_uri": "https://localhost:8080/"
        },
        "outputId": "fa8f92dd-eeab-4f9b-edd6-b2de2e48a18c"
      },
      "source": [
        "ds = lfm.data.Dataset()\n",
        "ds.fit(users=df_int[\"id_lector\"].unique(), items=df_int[\"id_libro\"].unique())\n",
        "ds.interactions_shape()"
      ],
      "execution_count": 4,
      "outputs": [
        {
          "output_type": "execute_result",
          "data": {
            "text/plain": [
              "(11221, 43740)"
            ]
          },
          "metadata": {},
          "execution_count": 4
        }
      ]
    },
    {
      "cell_type": "code",
      "metadata": {
        "id": "0DLWMAmcuc1N"
      },
      "source": [
        "(interactions, weights) = ds.build_interactions(df_int[['id_lector', 'id_libro', 'rating']].itertuples(index=False)) # ojo con el orden\n",
        "#interactions\n",
        "#weights"
      ],
      "execution_count": 5,
      "outputs": []
    },
    {
      "cell_type": "code",
      "source": [
        "#PRUEBA NO EXITOSA!!!!!!!!!!!!!!!!\n",
        "from scipy.sparse import csr_matrix, coo_matrix\n",
        "# Construir interacciones\n",
        "(interactions, _) = ds.build_interactions(\n",
        "    df_int[['id_lector', 'id_libro', 'rating']].itertuples(index=False)\n",
        ")\n",
        "\n",
        "row, col, _ = interactions.row, interactions.col, interactions.data\n",
        "weights = np.where(df_int['rating'] >= 7, 2.0, 1.0)\n",
        "\n",
        "# Crear matriz dispersa para los pesos en formato COO\n",
        "weights_coo = coo_matrix((weights, (row, col)), shape=interactions.shape)\n",
        "\n",
        "# Dividir en conjuntos de entrenamiento y prueba\n",
        "train, test = lfm.cross_validation.random_train_test_split(interactions, test_percentage=0.2, random_state=42)\n",
        "train_w, test_w = lfm.cross_validation.random_train_test_split(weights_coo, test_percentage=0.2, random_state=42)\n",
        "\n",
        "# Asegurarse de que train_w esté alineado con train\n",
        "train_w = coo_matrix(train_w)\n",
        "\n",
        "# Crear y entrenar el modelo\n",
        "model = lfm.LightFM(no_components=40, loss=\"bpr\", learning_rate=0.01)\n",
        "model.fit(train, sample_weight=train_w, epochs=10, num_threads=2)\n",
        "\n",
        "# Evaluar precisión\n",
        "train_precision = lfm.evaluation.precision_at_k(model, train, k=10, num_threads=2).mean()\n",
        "test_precision = lfm.evaluation.precision_at_k(model, test, k=10, num_threads=2).mean()\n",
        "\n",
        "print('Precisión en train: {}'.format(train_precision))\n",
        "print('Precisión en test: {}'.format(test_precision))"
      ],
      "metadata": {
        "colab": {
          "base_uri": "https://localhost:8080/"
        },
        "id": "-ghLpiNWdD8C",
        "outputId": "1d264102-18b8-4211-8bc6-d6d6d8b21d4e"
      },
      "execution_count": 87,
      "outputs": [
        {
          "output_type": "stream",
          "name": "stdout",
          "text": [
            "Precisión en train: 0.09685785323381424\n",
            "Precisión en test: 0.03339698165655136\n"
          ]
        }
      ]
    },
    {
      "cell_type": "code",
      "source": [
        "train, test = lfm.cross_validation.random_train_test_split(interactions, test_percentage=0.2, random_state=42)\n",
        "train_w, test_w = lfm.cross_validation.random_train_test_split(weights, test_percentage=0.2, random_state=42)\n",
        "model = lfm.LightFM(no_components=30, loss=\"bpr\",learning_rate = 0.02) # hiperparámetro\n",
        "model.fit(train, sample_weight=train_w, epochs=10, num_threads=2)"
      ],
      "metadata": {
        "colab": {
          "base_uri": "https://localhost:8080/"
        },
        "id": "yz1D5oo9wGq_",
        "outputId": "073f196a-3fad-46b0-a876-19eea2ee7543"
      },
      "execution_count": 22,
      "outputs": [
        {
          "output_type": "execute_result",
          "data": {
            "text/plain": [
              "<lightfm.lightfm.LightFM at 0x7e3ee0d769b0>"
            ]
          },
          "metadata": {},
          "execution_count": 22
        }
      ]
    },
    {
      "cell_type": "code",
      "metadata": {
        "id": "DrkCrljrRJld",
        "colab": {
          "base_uri": "https://localhost:8080/"
        },
        "outputId": "9b3c5a63-3f3c-4ac6-a7b0-c348f2671a6d"
      },
      "source": [
        "train_precision = lfm.evaluation.precision_at_k(model, train, k=10, num_threads=2).mean()\n",
        "test_precision  = lfm.evaluation.precision_at_k(model, test,  k=10, num_threads=2).mean()\n",
        "print('Precision en train: {}'.format(train_precision))\n",
        "print('Precision en test: {}'.format(test_precision))"
      ],
      "execution_count": 23,
      "outputs": [
        {
          "output_type": "stream",
          "name": "stdout",
          "text": [
            "Precision en train: 0.1532851606607437\n",
            "Precision en test: 0.0496697723865509\n"
          ]
        }
      ]
    },
    {
      "cell_type": "code",
      "source": [
        "#AGREGADO POR MI PARA PROBARRRRR!!!!!!!!!!!!!!!!\n",
        "# Probar diferentes hiperparámetros\n",
        "model_configs = [\n",
        "    {'no_components': 20, 'loss': 'bpr', 'learning_rate': 0.02},\n",
        "    {'no_components': 30, 'loss': 'bpr', 'learning_rate': 0.02},\n",
        "    {'no_components': 40, 'loss': 'bpr', 'learning_rate': 0.02}\n",
        "]\n",
        "\n",
        "# Asumo que ya tienes ds, interactions y weights definidos de tu código anterior\n",
        "for config in model_configs:\n",
        "    # Crear y entrenar el modelo con la configuración actual\n",
        "    model = lfm.LightFM(**config)\n",
        "    model.fit(train, sample_weight=train_w, epochs=10, num_threads=2)\n",
        "\n",
        "    # Calcular métricas para esta configuración\n",
        "    train_precision = evaluation.precision_at_k(model, train, k=10, num_threads=2).mean()\n",
        "    test_precision = evaluation.precision_at_k(model, test, k=10, num_threads=2).mean()\n",
        "\n",
        "    print(f\"Configuración: {config}\")\n",
        "    print(f'Precision en train: {train_precision}')\n",
        "    print(f'Precision en test: {test_precision}')"
      ],
      "metadata": {
        "colab": {
          "base_uri": "https://localhost:8080/"
        },
        "id": "hjnFp3mNIM1T",
        "outputId": "a6efc49a-0841-4ba5-d6f5-bd51beb5ef61"
      },
      "execution_count": 19,
      "outputs": [
        {
          "output_type": "stream",
          "name": "stdout",
          "text": [
            "Configuración: {'no_components': 20, 'loss': 'bpr', 'learning_rate': 0.02}\n",
            "Precision en train: 0.16185224056243896\n",
            "Precision en test: 0.04936956241726875\n",
            "Configuración: {'no_components': 30, 'loss': 'bpr', 'learning_rate': 0.02}\n",
            "Precision en train: 0.1761338710784912\n",
            "Precision en test: 0.05198138952255249\n",
            "Configuración: {'no_components': 40, 'loss': 'bpr', 'learning_rate': 0.02}\n",
            "Precision en train: 0.17375677824020386\n",
            "Precision en test: 0.05042029917240143\n"
          ]
        }
      ]
    },
    {
      "cell_type": "code",
      "source": [
        "#AGREGADO POR MI PARA PROBARRRRR!!!!!!!!!!!!!!!!\n",
        "# Early stopping\n",
        "from lightfm.evaluation import precision_at_k\n",
        "\n",
        "def train_with_early_stopping(model, train, test, train_w, test_w, epochs=50, patience=5, num_threads=2):\n",
        "    best_precision = 0\n",
        "    epochs_without_improvement = 0\n",
        "\n",
        "    for epoch in range(epochs):\n",
        "        model.fit(train, sample_weight=train_w, epochs=1, num_threads=num_threads)\n",
        "\n",
        "        # Evaluar en conjunto de prueba\n",
        "        test_precision = precision_at_k(model, test, k=10, num_threads=num_threads).mean()\n",
        "        print(f\"Época {epoch + 1}: Precisión en test: {test_precision:.4f}\")\n",
        "\n",
        "        # Verificar si hay mejora\n",
        "        if test_precision > best_precision:\n",
        "            best_precision = test_precision\n",
        "            epochs_without_improvement = 0\n",
        "        else:\n",
        "            epochs_without_improvement += 1\n",
        "\n",
        "        # Early stopping\n",
        "        if epochs_without_improvement >= patience:\n",
        "            print(f\"Detenido en la época {epoch + 1} debido a falta de mejora.\")\n",
        "            break\n",
        "\n",
        "    return model\n",
        "\n",
        "# Llamar a la función de entrenamiento\n",
        "model = lfm.LightFM(no_components=40, loss=\"bpr\", learning_rate=0.02)\n",
        "model = train_with_early_stopping(model, train, test, train_w, test_w, epochs=50, patience=5, num_threads=2)\n"
      ],
      "metadata": {
        "colab": {
          "base_uri": "https://localhost:8080/"
        },
        "id": "Y_j9ns6gcZY6",
        "outputId": "ca0a2130-0471-4498-ac61-40354442d343"
      },
      "execution_count": 18,
      "outputs": [
        {
          "output_type": "stream",
          "name": "stdout",
          "text": [
            "Época 1: Precisión en test: 0.0398\n",
            "Época 2: Precisión en test: 0.0417\n",
            "Época 3: Precisión en test: 0.0418\n",
            "Época 4: Precisión en test: 0.0395\n",
            "Época 5: Precisión en test: 0.0385\n",
            "Época 6: Precisión en test: 0.0412\n",
            "Época 7: Precisión en test: 0.0409\n",
            "Época 8: Precisión en test: 0.0405\n",
            "Detenido en la época 8 debido a falta de mejora.\n"
          ]
        }
      ]
    },
    {
      "cell_type": "markdown",
      "metadata": {
        "id": "Rnzkz8_Ssf8e"
      },
      "source": [
        "# Item features"
      ]
    },
    {
      "cell_type": "code",
      "source": [
        "conn = sqlite3.connect('data.db')\n",
        "\n",
        "df_items = pd.read_sql_query(\"SELECT * FROM libros\", conn)\n",
        "df_items = df_items[[\"id_libro\", \"autor\", \"genero\"]]\n",
        "df_items.head()"
      ],
      "metadata": {
        "id": "Ww4tldqo858T"
      },
      "execution_count": null,
      "outputs": []
    },
    {
      "cell_type": "code",
      "metadata": {
        "id": "ImleW1R46vxM"
      },
      "source": [
        "ds = lfm.data.Dataset()\n",
        "ds.fit(users=df_int[\"id_lector\"].unique(), items=df_items[\"id_libro\"].unique(), item_features=df_items[\"autor\"].unique().tolist() + df_items[\"genero\"].unique().tolist())\n",
        "ds.interactions_shape()"
      ],
      "execution_count": null,
      "outputs": []
    },
    {
      "cell_type": "code",
      "source": [
        "#df_items[\"autor\"].unique().tolist() + df_items[\"genero\"].unique().tolist()\n",
        "len(df_items[\"autor\"].unique().tolist() + df_items[\"genero\"].unique().tolist())"
      ],
      "metadata": {
        "id": "r9pryUlGo0RD"
      },
      "execution_count": null,
      "outputs": []
    },
    {
      "cell_type": "code",
      "metadata": {
        "id": "3Vbxgbbc5MxN"
      },
      "source": [
        "ifs = []\n",
        "for _, row in df_items.iterrows():\n",
        "    ifs.append( (row[\"id_libro\"], [row[\"autor\"], row[\"genero\"]]) ) # { row[\"autor\"]: 0.2, row[\"genero\"]: 0.8 }\n",
        "\n",
        "item_features = ds.build_item_features(ifs)\n",
        "item_features"
      ],
      "execution_count": null,
      "outputs": []
    },
    {
      "cell_type": "code",
      "metadata": {
        "id": "aaHC8zVC6-RK"
      },
      "source": [
        "#len(ifs)\n",
        "# 24306\n",
        "\n",
        "#(interactions, weights) = ds.build_interactions(df_int[['id_lector', 'id_libro', 'rating']].itertuples(index=False, name=None)) # ojo con el orden\n",
        "#interactions\n",
        "#weights"
      ],
      "execution_count": null,
      "outputs": []
    },
    {
      "cell_type": "code",
      "metadata": {
        "id": "Jw8yKjMb7Ju2"
      },
      "source": [
        "train, test = lfm.cross_validation.random_train_test_split(interactions, test_percentage=0.2, random_state=42)\n",
        "train_w, test_w = lfm.cross_validation.random_train_test_split(weights, test_percentage=0.2, random_state=42)\n",
        "model = lfm.LightFM(no_components=20, loss=\"warp\")\n",
        "model.fit(train, sample_weight=train_w, epochs=10, item_features=item_features, num_threads=2)"
      ],
      "execution_count": null,
      "outputs": []
    },
    {
      "cell_type": "code",
      "metadata": {
        "id": "dURux8HO7L_d"
      },
      "source": [
        "train_precision = lfm.evaluation.precision_at_k(model, train, item_features=item_features, k=10, num_threads=2).mean()\n",
        "test_precision  = lfm.evaluation.precision_at_k(model, test,  item_features=item_features, k=10, num_threads=2).mean()\n",
        "print('Precision en train: {}'.format(train_precision))\n",
        "print('Precision en test: {}'.format(test_precision))"
      ],
      "execution_count": null,
      "outputs": []
    },
    {
      "cell_type": "markdown",
      "metadata": {
        "id": "Pj4AtQUSrBQX"
      },
      "source": [
        "# Predicción"
      ]
    },
    {
      "cell_type": "code",
      "metadata": {
        "id": "2n5N-VfrrQfw"
      },
      "source": [
        "# consigo los mapeos creados por el modelo // el modelo a cada libro/user le crea un ID\n",
        "user_id_mapping, user_feature_mapping, item_id_mapping, item_feature_mapping = ds.mapping()\n",
        "user_id_mapping\n",
        "#item_id_mapping"
      ],
      "execution_count": null,
      "outputs": []
    },
    {
      "cell_type": "code",
      "source": [
        "model = lfm.LightFM(no_components=20)\n",
        "model.fit(interactions=interactions, sample_weight=weights, item_features=item_features, epochs=10, num_threads=2)"
      ],
      "metadata": {
        "id": "hDBQZirZTcum"
      },
      "execution_count": null,
      "outputs": []
    },
    {
      "cell_type": "code",
      "metadata": {
        "id": "1BEgst84ukVR"
      },
      "source": [
        "#ESTA ES UNA PRUEBA CON UN USER Y DOS LIBROS, PERO YO DEBERÍA PASARLE TODOS LOS LIBROS QUE NO LEYÓ\n",
        "#ESTE ES UNA PREDICCIÓN DE \"ESTRELLITAS\"\n",
        "#ESTE ES UN MÉTODO MÁS RAPIDO\n",
        "ID_LECTOR = \"c3po\"\n",
        "IDS_LIBROS = [\"yerma\", \"watchmen\"] # todos los items\n",
        "\n",
        "#user_id_mapping[ID_LECTOR]\n",
        "#np.array([item_id_mapping[m] for m in IDS_LIBROS])\n",
        "model.predict(user_id_mapping[ID_LECTOR], np.array([item_id_mapping[m] for m in IDS_LIBROS]), item_features=item_features, num_threads=2)"
      ],
      "execution_count": null,
      "outputs": []
    },
    {
      "cell_type": "code",
      "source": [
        "# PARA VER\n",
        "#ESTA ES UNA PREDICCIÓN DE RANKING // ESTE ES UN MÉTODO QUE SIRVE MÁS PARA POCOS USERS, PERO MAS LENTO SI HACES MUCHAS PREDICCIONES\n",
        "model.predict_rank(interactions, item_features=item_features, num_threads=2, check_intersections=True)"
      ],
      "metadata": {
        "id": "8CdK90itrcWq"
      },
      "execution_count": null,
      "outputs": []
    },
    {
      "cell_type": "code",
      "source": [
        "# https://making.lyst.com/lightfm/docs/lightfm.html"
      ],
      "metadata": {
        "id": "Luwg6dQO8Hmb"
      },
      "execution_count": null,
      "outputs": []
    }
  ]
}