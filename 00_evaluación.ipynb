{
  "nbformat": 4,
  "nbformat_minor": 0,
  "metadata": {
    "colab": {
      "provenance": [],
      "include_colab_link": true
    },
    "kernelspec": {
      "name": "python3",
      "display_name": "Python 3"
    },
    "language_info": {
      "name": "python"
    }
  },
  "cells": [
    {
      "cell_type": "markdown",
      "metadata": {
        "id": "view-in-github",
        "colab_type": "text"
      },
      "source": [
        "<a href=\"https://colab.research.google.com/github/FranMoretti/FranMoretti/blob/main/00_evaluaci%C3%B3n.ipynb\" target=\"_parent\"><img src=\"https://colab.research.google.com/assets/colab-badge.svg\" alt=\"Open In Colab\"/></a>"
      ]
    },
    {
      "cell_type": "markdown",
      "source": [
        "## Servidor"
      ],
      "metadata": {
        "id": "9r56xvrz6-FR"
      }
    },
    {
      "cell_type": "code",
      "source": [
        "from flask import Flask, jsonify, abort"
      ],
      "metadata": {
        "id": "RYUhkZD85YRD"
      },
      "execution_count": null,
      "outputs": []
    },
    {
      "cell_type": "code",
      "source": [
        "from flask import Flask, jsonify, abort, request, render_template\n",
        "from os import path\n",
        "import sqlite3\n",
        "\n",
        "app = Flask(__name__)\n",
        "\n",
        "THIS_FOLDER = path.dirname(path.realpath(__file__))\n",
        "\n",
        "@app.route('/api/version', methods=[\"GET\"])\n",
        "def api_version():\n",
        "    return jsonify({\"version\": 2})\n",
        "\n",
        "@app.route('/api/init', methods=[\"GET\"])\n",
        "def api_init():\n",
        "    con = sqlite3.connect(path.join(THIS_FOLDER, \"data.db\"))\n",
        "    con.row_factory = sqlite3.Row\n",
        "    cur = con.cursor()\n",
        "\n",
        "    cur.execute(\"DROP TABLE IF EXISTS popularidad\")\n",
        "    con.commit()\n",
        "    cur.execute(\"\"\"CREATE TABLE popularidad AS\n",
        "    SELECT id_libro, AVG(rating) AS rating\n",
        "      FROM interacciones\n",
        "     GROUP BY 1\n",
        "    HAVING count(*) > 5\n",
        "    \"\"\")\n",
        "    cur.execute(\"CREATE UNIQUE INDEX idx_id_libro ON popularidad(id_libro)\")\n",
        "    con.close()\n",
        "    return jsonify({\"status\": \"ok\"})\n",
        "\n",
        "\n",
        "def recomendar(id_lector):\n",
        "    con = sqlite3.connect(path.join(THIS_FOLDER, \"data.db\"))\n",
        "    con.row_factory = sqlite3.Row\n",
        "    cur = con.cursor()\n",
        "\n",
        "    res = cur.execute(\"SELECT * FROM lectores WHERE id_lector = ?\", [id_lector]).fetchone()\n",
        "    if not res:\n",
        "        abort(404, \"El lector '{id_lector}' no existe\")\n",
        "\n",
        "    q = \"\"\"\n",
        "         SELECT id_libro\n",
        "           FROM popularidad\n",
        "           WHERE id_libro NOT IN (SELECT id_libro FROM interacciones WHERE id_lector = ?)\n",
        "         ORDER BY rating DESC\n",
        "         LIMIT 10;\n",
        "    \"\"\"\n",
        "    cur.execute(q, [id_lector])\n",
        "    rec = [r['id_libro'] for r in cur.fetchall()]\n",
        "    con.close()\n",
        "\n",
        "    return rec\n",
        "\n",
        "@app.route(\"/api/recomendar/<string:id_lector>\", methods=[\"GET\"])\n",
        "def api_recomendar(id_lector):\n",
        "    return jsonify({\"recomendacion\": recomendar(id_lector)})\n",
        "\n",
        "@app.route(\"/api/recomendaciones\", methods=[\"POST\"])\n",
        "def api_recomendaciones():\n",
        "    data = request.get_json()\n",
        "    recs = []\n",
        "\n",
        "    for id_lector in data[\"id_lectores\"]:\n",
        "        recs.append({\"id_lector\": id_lector, \"recomendaciones\": recomendar(id_lector)})\n",
        "\n",
        "    return jsonify({\"recomendaciones\": recs})"
      ],
      "metadata": {
        "id": "YcOR0aUJ5GOa"
      },
      "execution_count": null,
      "outputs": []
    },
    {
      "cell_type": "markdown",
      "source": [
        "## Cliente"
      ],
      "metadata": {
        "id": "91REo3eX7ACX"
      }
    },
    {
      "cell_type": "code",
      "source": [
        "import requests\n",
        "import sqlite3\n",
        "import math\n",
        "from os import path"
      ],
      "metadata": {
        "id": "3rw-7EWkZZaM"
      },
      "execution_count": null,
      "outputs": []
    },
    {
      "cell_type": "code",
      "source": [
        "def ndcg(groud_truth, recommendation):\n",
        "    dcg = 0.0\n",
        "    for i, r in enumerate(recommendation):\n",
        "        rel = int(r in groud_truth) # 0 si r no está en GT, 1 si está\n",
        "        dcg += rel / math.log2(i+1+1)\n",
        "\n",
        "    rels = [r for r in recommendation if r in groud_truth]\n",
        "    not_rels = [r for r in recommendation if r not in groud_truth]\n",
        "\n",
        "    idcg = 0.0\n",
        "    for i, r in enumerate(rels + not_rels):\n",
        "        idcg += 1.0 / math.log2(i+1+1)\n",
        "\n",
        "    return dcg / idcg"
      ],
      "metadata": {
        "id": "vb4JSzRk7bJi"
      },
      "execution_count": null,
      "outputs": []
    },
    {
      "cell_type": "code",
      "execution_count": null,
      "metadata": {
        "id": "wcgKWRrcX-tG"
      },
      "outputs": [],
      "source": [
        "servidores = [\n",
        "    (\">>>>>>>>\", \"rabalde.pythonanywhere.com\"),\n",
        "    (\"Amado, Pablo Marcelo\", \"pamado.pythonanywhere.com\"),\n",
        "    (\"Bessone, Cristian\", \"v817723.pythonanywhere.com\"),\n",
        "    (\"Brazionis, Camila Belén\", \"camilabrazionis.pythonanywhere.com\"),\n",
        "    (\"Buccari, María Florencia\", \"florbuccari.pythonanywhere.com\"),\n",
        "    (\"Cabrera, Tomas\", \"tomascabrera.pythonanywhere.com\"),\n",
        "    (\"Caldora, Facundo\", \"facaldora.pythonanywhere.com/\"),\n",
        "    (\"Chaparro, Raul Martín\", \"chapa.pythonanywhere.com\"),\n",
        "    (\"Choi, Francisco\", \"fchoi.pythonanywhere.com\"),\n",
        "    (\"Colina, Ariel Nicolás\", \"acolina.pythonanywhere.com\"),\n",
        "    (\"Correa, Tomás\", \"tomascorrea.pythonanywhere.com\"),\n",
        "    (\"Delgadin, Tomas Horacio\", \"tomasdelgadin.pythonanywhere.com\"),\n",
        "    (\"Fernández Palacios, Tomás\", \"tofernan.pythonanywhere.com\"),\n",
        "    #(\"Gattus, Luciana\", \"sin.servidor\"),\n",
        "    (\"Grunseid, Viviana Carolina\", \"vgrunseid.pythonanywhere.com\"),\n",
        "    (\"Ibarzabal, Agustina\", \"agusibar.pythonanywhere.com\"),\n",
        "    (\"Jácome Pérez, Fausto Damián\", \"faustojp.pythonanywhere.com\"),\n",
        "    (\"Moretti, Francisco\", \"fmoretti.pythonanywhere.com\"),\n",
        "    (\"Portas, Francisco\", \"cozaco98.pythonanywhere.com\"),\n",
        "    (\"Rey, Augusto Martin\", \"arey.pythonanywhere.com\"),\n",
        "    (\"Sendyk, Uriel Alan\", \"urizen89.pythonanywhere.com\"),\n",
        "    (\"Sosa Suarez, Santiago Andres\", \"santi23.pythonanywhere.com\"),\n",
        "    (\"Tapia, Julian\", \"jtapia.pythonanywhere.com\"),\n",
        "    (\"Truffa, Juan Manuel\", \"jmtruffa.pythonanywhere.com\"),\n",
        "    (\"Vega, Maximiliano\", \"vegamaximiliano0.pythonanywhere.com\"),\n",
        "    (\"Vignolo, Ayrton Cesar\", \"ayrton88.pythonanywhere.com\"),\n",
        "    (\"Vischi Cortés, Paula\", \"pvischic.pythonanywhere.com\"),\n",
        "]"
      ]
    },
    {
      "cell_type": "code",
      "source": [
        "for alumno, servidor in servidores:\n",
        "    print(alumno, end=\"\", flush=True)\n",
        "\n",
        "    try:\n",
        "        ###\n",
        "        endpoint = \"/api/version\"\n",
        "\n",
        "        res = requests.get(\"https://\" + servidor + endpoint, timeout=30)\n",
        "        assert res.status_code == 200, f\"debe retornar status code 200 y retorno {res.status_code}\"\n",
        "        assert res.headers.get('content-type') == 'application/json', \"no devolvió un objeto tipo json\"\n",
        "        j = res.json()\n",
        "        assert \"version\" in j, \"el objeto no tiene la clave 'version'\"\n",
        "        assert type(j[\"version\"]) == int, \"la version debe ser un número de tipo entero\"\n",
        "        assert j[\"version\"] == 2, f\"la version debe ser 2 y es { j['version'] }\"\n",
        "\n",
        "        ###\n",
        "        endpoint = \"/api/init\"\n",
        "\n",
        "        res = requests.get(\"https://\" + servidor + endpoint, timeout=30)\n",
        "        assert res.status_code == 200, f\"debe retornar status_code 200 y retornó {res.status_code}\"\n",
        "        assert res.headers.get('content-type') == 'application/json', \"no devolvió un objeto tipo json\"\n",
        "        j = res.json()\n",
        "        assert \"status\" in j, \"el objeto no tiene la clave 'status'\"\n",
        "        assert j[\"status\"] == \"ok\", f\"el status debe ser 'ok' y devolvió {j['status'] }\"\n",
        "\n",
        "        ###\n",
        "        endpoint = \"/api/recomendaciones\"\n",
        "\n",
        "        con = sqlite3.connect(path.join(THIS_FOLDER, \"data_test.db\"))\n",
        "        con.row_factory = sqlite3.Row\n",
        "        cur = con.cursor()\n",
        "        lectores = [r[\"id_lector\"] for r in cur.execute(\"SELECT DISTINCT id_lector FROM interacciones_test\").fetchall()][:100]\n",
        "        con.close()\n",
        "\n",
        "        res = requests.post(\"https://\" + servidor + endpoint, timeout=60*60, json={\"id_lectores\": lectores})\n",
        "        assert res.status_code == 200, f\"debe retornar status code 200 y retorno {res.status_code}\"\n",
        "        assert res.headers.get('content-type') == 'application/json', \"no devolvió un objeto tipo json\"\n",
        "        j = res.json()\n",
        "        assert \"recomendaciones\" in j, \"el objeto no tiene la clave 'recomendaciones'\"\n",
        "        assert type(j[\"recomendaciones\"]) == list, f\"'recomendaciones' debe ser de tipo lista y es de tipo {type(j['recomendaciones'])}\"\n",
        "        assert len(j[\"recomendaciones\"]) == len(lectores), f\"'recomendaciones' debe tener {len(j['recomendaciones'])} elementos y tiene {len(lectores)}\"\n",
        "\n",
        "        con = sqlite3.connect(path.join(THIS_FOLDER, \"data.db\"))\n",
        "        con.row_factory = sqlite3.Row\n",
        "        cur = con.cursor()\n",
        "\n",
        "        for rec in j[\"recomendaciones\"]:\n",
        "            assert type(rec) == dict, f\"el elemento '{rec}' de las recomendaciones debe ser de tipo dict\"\n",
        "\n",
        "            assert \"id_lector\" in rec, f\"el objeto '{rec}' no tiene la clave 'id_lector'\"\n",
        "            assert \"recomendaciones\" in rec, f\"el objeto '{rec}' no tiene la clave 'recomendaciones'\"\n",
        "\n",
        "            for id_libro in rec[\"recomendaciones\"]:\n",
        "                res = cur.execute(\"SELECT * FROM libros WHERE id_libro = ?\", [id_libro]).fetchone()\n",
        "                assert res is not None, f\"el id_libro '{id_libro}' de la recomendacion no existe\"\n",
        "        con.close()\n",
        "    except Exception as e:\n",
        "        print(f\"--> ERROR ({endpoint}):\", e)\n",
        "        continue\n",
        "\n",
        "    ### metricas\n",
        "    con = sqlite3.connect(path.join(THIS_FOLDER, \"data_test.db\"))\n",
        "    con.row_factory = sqlite3.Row\n",
        "    cur = con.cursor()\n",
        "\n",
        "    s = 0.0\n",
        "    for rec in j[\"recomendaciones\"]:\n",
        "        gt = [r[\"id_libro\"] for r in cur.execute(\"SELECT id_libro FROM interacciones_test WHERE id_lector = ?\", [rec['id_lector']]).fetchall()]\n",
        "        s = s + ndcg(gt, rec[\"recomendaciones\"])\n",
        "    s = s / len(j[\"recomendaciones\"])\n",
        "    con.close()\n",
        "\n",
        "    print(\" -->\", f\"{s:2.5f}\")"
      ],
      "metadata": {
        "id": "P1cXXzrCZbxE"
      },
      "execution_count": null,
      "outputs": []
    }
  ]
}