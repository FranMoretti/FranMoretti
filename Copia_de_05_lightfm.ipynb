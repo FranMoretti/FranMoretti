{
  "nbformat": 4,
  "nbformat_minor": 0,
  "metadata": {
    "colab": {
      "provenance": [],
      "include_colab_link": true
    },
    "kernelspec": {
      "display_name": "Python 3",
      "name": "python3"
    }
  },
  "cells": [
    {
      "cell_type": "markdown",
      "metadata": {
        "id": "view-in-github",
        "colab_type": "text"
      },
      "source": [
        "<a href=\"https://colab.research.google.com/github/FranMoretti/FranMoretti/blob/main/Copia_de_05_lightfm.ipynb\" target=\"_parent\"><img src=\"https://colab.research.google.com/assets/colab-badge.svg\" alt=\"Open In Colab\"/></a>"
      ]
    },
    {
      "cell_type": "code",
      "metadata": {
        "id": "L2ZKbidfO_d7"
      },
      "source": [
        "! pip install lightfm > /dev/null\n",
        "# necesita python 3.10"
      ],
      "execution_count": 1,
      "outputs": []
    },
    {
      "cell_type": "code",
      "metadata": {
        "id": "9oDZE6gPPJD6"
      },
      "source": [
        "import lightfm as lfm\n",
        "from lightfm import data\n",
        "from lightfm import cross_validation\n",
        "from lightfm import evaluation\n",
        "import pandas as pd\n",
        "import numpy as np\n",
        "import sqlite3"
      ],
      "execution_count": 2,
      "outputs": []
    },
    {
      "cell_type": "code",
      "metadata": {
        "id": "rwc_-d1rsw38",
        "colab": {
          "base_uri": "https://localhost:8080/",
          "height": 206
        },
        "outputId": "9001db21-ae49-46a3-d243-5fdb8f78b2b9"
      },
      "source": [
        "conn = sqlite3.connect('data.db')\n",
        "\n",
        "df_int = pd.read_sql_query(\"SELECT * FROM interacciones\", conn) #  WHERE rating >= 7\n",
        "#EL WHERE LO PONE PORQUE ESTE MODELO LE DA LO MISMO UN 1 QUE UN 10, A AMBOS LE ASIGNA 1, ASIGNA CERO A LOS QUE NO TIENEN INTERACCIONES\n",
        "#ESTE MODELO REEMPLAZA SURPRISE\n",
        "#ES UNA ESPECIE DE FILTRADO COLABORATIVO\n",
        "#puedo usar este modelo y guardarlo en pickle por ejemplo\n",
        "#ACÁ ESTÁ HECHO PARA ITEMS, PUEDO HACERLO TAMBIÉN PARA USERS\n",
        "df_int.head()"
      ],
      "execution_count": 3,
      "outputs": [
        {
          "output_type": "execute_result",
          "data": {
            "text/plain": [
              "         id_lector                id_libro         fecha  rating\n",
              "0             yura      -incluso-el-olvido   hace 8 años       6\n",
              "1       albertofg1  1080-recetas-de-cocina   hace 4 años       9\n",
              "2            trini  1080-recetas-de-cocina  hace 12 años      10\n",
              "3        chicarela         11-4-suenos-luz   hace 4 años       9\n",
              "4  jorge-knowles-5             13-99-euros  hace 10 años       9"
            ],
            "text/html": [
              "\n",
              "  <div id=\"df-5f27126b-5e00-4d56-bf60-6cfbfcee1936\" class=\"colab-df-container\">\n",
              "    <div>\n",
              "<style scoped>\n",
              "    .dataframe tbody tr th:only-of-type {\n",
              "        vertical-align: middle;\n",
              "    }\n",
              "\n",
              "    .dataframe tbody tr th {\n",
              "        vertical-align: top;\n",
              "    }\n",
              "\n",
              "    .dataframe thead th {\n",
              "        text-align: right;\n",
              "    }\n",
              "</style>\n",
              "<table border=\"1\" class=\"dataframe\">\n",
              "  <thead>\n",
              "    <tr style=\"text-align: right;\">\n",
              "      <th></th>\n",
              "      <th>id_lector</th>\n",
              "      <th>id_libro</th>\n",
              "      <th>fecha</th>\n",
              "      <th>rating</th>\n",
              "    </tr>\n",
              "  </thead>\n",
              "  <tbody>\n",
              "    <tr>\n",
              "      <th>0</th>\n",
              "      <td>yura</td>\n",
              "      <td>-incluso-el-olvido</td>\n",
              "      <td>hace 8 años</td>\n",
              "      <td>6</td>\n",
              "    </tr>\n",
              "    <tr>\n",
              "      <th>1</th>\n",
              "      <td>albertofg1</td>\n",
              "      <td>1080-recetas-de-cocina</td>\n",
              "      <td>hace 4 años</td>\n",
              "      <td>9</td>\n",
              "    </tr>\n",
              "    <tr>\n",
              "      <th>2</th>\n",
              "      <td>trini</td>\n",
              "      <td>1080-recetas-de-cocina</td>\n",
              "      <td>hace 12 años</td>\n",
              "      <td>10</td>\n",
              "    </tr>\n",
              "    <tr>\n",
              "      <th>3</th>\n",
              "      <td>chicarela</td>\n",
              "      <td>11-4-suenos-luz</td>\n",
              "      <td>hace 4 años</td>\n",
              "      <td>9</td>\n",
              "    </tr>\n",
              "    <tr>\n",
              "      <th>4</th>\n",
              "      <td>jorge-knowles-5</td>\n",
              "      <td>13-99-euros</td>\n",
              "      <td>hace 10 años</td>\n",
              "      <td>9</td>\n",
              "    </tr>\n",
              "  </tbody>\n",
              "</table>\n",
              "</div>\n",
              "    <div class=\"colab-df-buttons\">\n",
              "\n",
              "  <div class=\"colab-df-container\">\n",
              "    <button class=\"colab-df-convert\" onclick=\"convertToInteractive('df-5f27126b-5e00-4d56-bf60-6cfbfcee1936')\"\n",
              "            title=\"Convert this dataframe to an interactive table.\"\n",
              "            style=\"display:none;\">\n",
              "\n",
              "  <svg xmlns=\"http://www.w3.org/2000/svg\" height=\"24px\" viewBox=\"0 -960 960 960\">\n",
              "    <path d=\"M120-120v-720h720v720H120Zm60-500h600v-160H180v160Zm220 220h160v-160H400v160Zm0 220h160v-160H400v160ZM180-400h160v-160H180v160Zm440 0h160v-160H620v160ZM180-180h160v-160H180v160Zm440 0h160v-160H620v160Z\"/>\n",
              "  </svg>\n",
              "    </button>\n",
              "\n",
              "  <style>\n",
              "    .colab-df-container {\n",
              "      display:flex;\n",
              "      gap: 12px;\n",
              "    }\n",
              "\n",
              "    .colab-df-convert {\n",
              "      background-color: #E8F0FE;\n",
              "      border: none;\n",
              "      border-radius: 50%;\n",
              "      cursor: pointer;\n",
              "      display: none;\n",
              "      fill: #1967D2;\n",
              "      height: 32px;\n",
              "      padding: 0 0 0 0;\n",
              "      width: 32px;\n",
              "    }\n",
              "\n",
              "    .colab-df-convert:hover {\n",
              "      background-color: #E2EBFA;\n",
              "      box-shadow: 0px 1px 2px rgba(60, 64, 67, 0.3), 0px 1px 3px 1px rgba(60, 64, 67, 0.15);\n",
              "      fill: #174EA6;\n",
              "    }\n",
              "\n",
              "    .colab-df-buttons div {\n",
              "      margin-bottom: 4px;\n",
              "    }\n",
              "\n",
              "    [theme=dark] .colab-df-convert {\n",
              "      background-color: #3B4455;\n",
              "      fill: #D2E3FC;\n",
              "    }\n",
              "\n",
              "    [theme=dark] .colab-df-convert:hover {\n",
              "      background-color: #434B5C;\n",
              "      box-shadow: 0px 1px 3px 1px rgba(0, 0, 0, 0.15);\n",
              "      filter: drop-shadow(0px 1px 2px rgba(0, 0, 0, 0.3));\n",
              "      fill: #FFFFFF;\n",
              "    }\n",
              "  </style>\n",
              "\n",
              "    <script>\n",
              "      const buttonEl =\n",
              "        document.querySelector('#df-5f27126b-5e00-4d56-bf60-6cfbfcee1936 button.colab-df-convert');\n",
              "      buttonEl.style.display =\n",
              "        google.colab.kernel.accessAllowed ? 'block' : 'none';\n",
              "\n",
              "      async function convertToInteractive(key) {\n",
              "        const element = document.querySelector('#df-5f27126b-5e00-4d56-bf60-6cfbfcee1936');\n",
              "        const dataTable =\n",
              "          await google.colab.kernel.invokeFunction('convertToInteractive',\n",
              "                                                    [key], {});\n",
              "        if (!dataTable) return;\n",
              "\n",
              "        const docLinkHtml = 'Like what you see? Visit the ' +\n",
              "          '<a target=\"_blank\" href=https://colab.research.google.com/notebooks/data_table.ipynb>data table notebook</a>'\n",
              "          + ' to learn more about interactive tables.';\n",
              "        element.innerHTML = '';\n",
              "        dataTable['output_type'] = 'display_data';\n",
              "        await google.colab.output.renderOutput(dataTable, element);\n",
              "        const docLink = document.createElement('div');\n",
              "        docLink.innerHTML = docLinkHtml;\n",
              "        element.appendChild(docLink);\n",
              "      }\n",
              "    </script>\n",
              "  </div>\n",
              "\n",
              "\n",
              "<div id=\"df-e9e5466b-8b8f-4941-bfee-824c2a795c4d\">\n",
              "  <button class=\"colab-df-quickchart\" onclick=\"quickchart('df-e9e5466b-8b8f-4941-bfee-824c2a795c4d')\"\n",
              "            title=\"Suggest charts\"\n",
              "            style=\"display:none;\">\n",
              "\n",
              "<svg xmlns=\"http://www.w3.org/2000/svg\" height=\"24px\"viewBox=\"0 0 24 24\"\n",
              "     width=\"24px\">\n",
              "    <g>\n",
              "        <path d=\"M19 3H5c-1.1 0-2 .9-2 2v14c0 1.1.9 2 2 2h14c1.1 0 2-.9 2-2V5c0-1.1-.9-2-2-2zM9 17H7v-7h2v7zm4 0h-2V7h2v10zm4 0h-2v-4h2v4z\"/>\n",
              "    </g>\n",
              "</svg>\n",
              "  </button>\n",
              "\n",
              "<style>\n",
              "  .colab-df-quickchart {\n",
              "      --bg-color: #E8F0FE;\n",
              "      --fill-color: #1967D2;\n",
              "      --hover-bg-color: #E2EBFA;\n",
              "      --hover-fill-color: #174EA6;\n",
              "      --disabled-fill-color: #AAA;\n",
              "      --disabled-bg-color: #DDD;\n",
              "  }\n",
              "\n",
              "  [theme=dark] .colab-df-quickchart {\n",
              "      --bg-color: #3B4455;\n",
              "      --fill-color: #D2E3FC;\n",
              "      --hover-bg-color: #434B5C;\n",
              "      --hover-fill-color: #FFFFFF;\n",
              "      --disabled-bg-color: #3B4455;\n",
              "      --disabled-fill-color: #666;\n",
              "  }\n",
              "\n",
              "  .colab-df-quickchart {\n",
              "    background-color: var(--bg-color);\n",
              "    border: none;\n",
              "    border-radius: 50%;\n",
              "    cursor: pointer;\n",
              "    display: none;\n",
              "    fill: var(--fill-color);\n",
              "    height: 32px;\n",
              "    padding: 0;\n",
              "    width: 32px;\n",
              "  }\n",
              "\n",
              "  .colab-df-quickchart:hover {\n",
              "    background-color: var(--hover-bg-color);\n",
              "    box-shadow: 0 1px 2px rgba(60, 64, 67, 0.3), 0 1px 3px 1px rgba(60, 64, 67, 0.15);\n",
              "    fill: var(--button-hover-fill-color);\n",
              "  }\n",
              "\n",
              "  .colab-df-quickchart-complete:disabled,\n",
              "  .colab-df-quickchart-complete:disabled:hover {\n",
              "    background-color: var(--disabled-bg-color);\n",
              "    fill: var(--disabled-fill-color);\n",
              "    box-shadow: none;\n",
              "  }\n",
              "\n",
              "  .colab-df-spinner {\n",
              "    border: 2px solid var(--fill-color);\n",
              "    border-color: transparent;\n",
              "    border-bottom-color: var(--fill-color);\n",
              "    animation:\n",
              "      spin 1s steps(1) infinite;\n",
              "  }\n",
              "\n",
              "  @keyframes spin {\n",
              "    0% {\n",
              "      border-color: transparent;\n",
              "      border-bottom-color: var(--fill-color);\n",
              "      border-left-color: var(--fill-color);\n",
              "    }\n",
              "    20% {\n",
              "      border-color: transparent;\n",
              "      border-left-color: var(--fill-color);\n",
              "      border-top-color: var(--fill-color);\n",
              "    }\n",
              "    30% {\n",
              "      border-color: transparent;\n",
              "      border-left-color: var(--fill-color);\n",
              "      border-top-color: var(--fill-color);\n",
              "      border-right-color: var(--fill-color);\n",
              "    }\n",
              "    40% {\n",
              "      border-color: transparent;\n",
              "      border-right-color: var(--fill-color);\n",
              "      border-top-color: var(--fill-color);\n",
              "    }\n",
              "    60% {\n",
              "      border-color: transparent;\n",
              "      border-right-color: var(--fill-color);\n",
              "    }\n",
              "    80% {\n",
              "      border-color: transparent;\n",
              "      border-right-color: var(--fill-color);\n",
              "      border-bottom-color: var(--fill-color);\n",
              "    }\n",
              "    90% {\n",
              "      border-color: transparent;\n",
              "      border-bottom-color: var(--fill-color);\n",
              "    }\n",
              "  }\n",
              "</style>\n",
              "\n",
              "  <script>\n",
              "    async function quickchart(key) {\n",
              "      const quickchartButtonEl =\n",
              "        document.querySelector('#' + key + ' button');\n",
              "      quickchartButtonEl.disabled = true;  // To prevent multiple clicks.\n",
              "      quickchartButtonEl.classList.add('colab-df-spinner');\n",
              "      try {\n",
              "        const charts = await google.colab.kernel.invokeFunction(\n",
              "            'suggestCharts', [key], {});\n",
              "      } catch (error) {\n",
              "        console.error('Error during call to suggestCharts:', error);\n",
              "      }\n",
              "      quickchartButtonEl.classList.remove('colab-df-spinner');\n",
              "      quickchartButtonEl.classList.add('colab-df-quickchart-complete');\n",
              "    }\n",
              "    (() => {\n",
              "      let quickchartButtonEl =\n",
              "        document.querySelector('#df-e9e5466b-8b8f-4941-bfee-824c2a795c4d button');\n",
              "      quickchartButtonEl.style.display =\n",
              "        google.colab.kernel.accessAllowed ? 'block' : 'none';\n",
              "    })();\n",
              "  </script>\n",
              "</div>\n",
              "\n",
              "    </div>\n",
              "  </div>\n"
            ],
            "application/vnd.google.colaboratory.intrinsic+json": {
              "type": "dataframe",
              "variable_name": "df_int"
            }
          },
          "metadata": {},
          "execution_count": 3
        }
      ]
    },
    {
      "cell_type": "code",
      "metadata": {
        "id": "L33eZ78iPSKp",
        "colab": {
          "base_uri": "https://localhost:8080/"
        },
        "outputId": "f72e045f-47e0-4a9b-cfad-33cfe73adba9"
      },
      "source": [
        "ds = lfm.data.Dataset()\n",
        "ds.fit(users=df_int[\"id_lector\"].unique(), items=df_int[\"id_libro\"].unique())\n",
        "ds.interactions_shape()"
      ],
      "execution_count": 4,
      "outputs": [
        {
          "output_type": "execute_result",
          "data": {
            "text/plain": [
              "(11221, 43740)"
            ]
          },
          "metadata": {},
          "execution_count": 4
        }
      ]
    },
    {
      "cell_type": "code",
      "metadata": {
        "id": "0DLWMAmcuc1N"
      },
      "source": [
        "(interactions, weights) = ds.build_interactions(df_int[['id_lector', 'id_libro', 'rating']].itertuples(index=False)) # ojo con el orden\n",
        "#interactions\n",
        "#weights"
      ],
      "execution_count": 5,
      "outputs": []
    },
    {
      "cell_type": "code",
      "metadata": {
        "id": "p9jBvhdq2VTP",
        "colab": {
          "base_uri": "https://localhost:8080/"
        },
        "outputId": "7eaefcdb-b7fc-43be-bbb4-48f62b78546f"
      },
      "source": [
        "train, test = lfm.cross_validation.random_train_test_split(interactions, test_percentage=0.2, random_state=42)\n",
        "train_w, test_w = lfm.cross_validation.random_train_test_split(weights, test_percentage=0.2, random_state=42)\n",
        "model = lfm.LightFM(no_components=20, loss=\"warp\") # hiperparámetro\n",
        "model.fit(train, sample_weight=train_w, epochs=10, num_threads=2)"
      ],
      "execution_count": 6,
      "outputs": [
        {
          "output_type": "execute_result",
          "data": {
            "text/plain": [
              "<lightfm.lightfm.LightFM at 0x7c48e900da80>"
            ]
          },
          "metadata": {},
          "execution_count": 6
        }
      ]
    },
    {
      "cell_type": "code",
      "metadata": {
        "id": "DrkCrljrRJld",
        "colab": {
          "base_uri": "https://localhost:8080/"
        },
        "outputId": "0242dd69-b648-460f-9b18-2052465fb7de"
      },
      "source": [
        "train_precision = lfm.evaluation.precision_at_k(model, train, k=10, num_threads=2).mean()\n",
        "test_precision  = lfm.evaluation.precision_at_k(model, test,  k=10, num_threads=2).mean()\n",
        "print('Precision en train: {}'.format(train_precision))\n",
        "print('Precision en test: {}'.format(test_precision))"
      ],
      "execution_count": 7,
      "outputs": [
        {
          "output_type": "stream",
          "name": "stdout",
          "text": [
            "Precision en train: 0.13727298378944397\n",
            "Precision en test: 0.047823477536439896\n"
          ]
        }
      ]
    },
    {
      "cell_type": "markdown",
      "metadata": {
        "id": "Rnzkz8_Ssf8e"
      },
      "source": [
        "# Item features"
      ]
    },
    {
      "cell_type": "code",
      "source": [
        "conn = sqlite3.connect('data.db')\n",
        "\n",
        "df_items = pd.read_sql_query(\"SELECT * FROM libros\", conn)\n",
        "df_items = df_items[[\"id_libro\", \"autor\", \"genero\"]]\n",
        "df_items.head()"
      ],
      "metadata": {
        "id": "Ww4tldqo858T"
      },
      "execution_count": null,
      "outputs": []
    },
    {
      "cell_type": "code",
      "metadata": {
        "id": "ImleW1R46vxM"
      },
      "source": [
        "ds = lfm.data.Dataset()\n",
        "ds.fit(users=df_int[\"id_lector\"].unique(), items=df_items[\"id_libro\"].unique(), item_features=df_items[\"autor\"].unique().tolist() + df_items[\"genero\"].unique().tolist())\n",
        "ds.interactions_shape()"
      ],
      "execution_count": null,
      "outputs": []
    },
    {
      "cell_type": "code",
      "source": [
        "#df_items[\"autor\"].unique().tolist() + df_items[\"genero\"].unique().tolist()\n",
        "len(df_items[\"autor\"].unique().tolist() + df_items[\"genero\"].unique().tolist())"
      ],
      "metadata": {
        "id": "r9pryUlGo0RD"
      },
      "execution_count": null,
      "outputs": []
    },
    {
      "cell_type": "code",
      "metadata": {
        "id": "3Vbxgbbc5MxN"
      },
      "source": [
        "ifs = []\n",
        "for _, row in df_items.iterrows():\n",
        "    ifs.append( (row[\"id_libro\"], [row[\"autor\"], row[\"genero\"]]) ) # { row[\"autor\"]: 0.2, row[\"genero\"]: 0.8 }\n",
        "\n",
        "item_features = ds.build_item_features(ifs)\n",
        "item_features"
      ],
      "execution_count": null,
      "outputs": []
    },
    {
      "cell_type": "code",
      "metadata": {
        "id": "aaHC8zVC6-RK"
      },
      "source": [
        "#len(ifs)\n",
        "# 24306\n",
        "\n",
        "#(interactions, weights) = ds.build_interactions(df_int[['id_lector', 'id_libro', 'rating']].itertuples(index=False, name=None)) # ojo con el orden\n",
        "#interactions\n",
        "#weights"
      ],
      "execution_count": null,
      "outputs": []
    },
    {
      "cell_type": "code",
      "metadata": {
        "id": "Jw8yKjMb7Ju2"
      },
      "source": [
        "train, test = lfm.cross_validation.random_train_test_split(interactions, test_percentage=0.2, random_state=42)\n",
        "train_w, test_w = lfm.cross_validation.random_train_test_split(weights, test_percentage=0.2, random_state=42)\n",
        "model = lfm.LightFM(no_components=20, loss=\"warp\")\n",
        "model.fit(train, sample_weight=train_w, epochs=10, item_features=item_features, num_threads=2)"
      ],
      "execution_count": null,
      "outputs": []
    },
    {
      "cell_type": "code",
      "metadata": {
        "id": "dURux8HO7L_d"
      },
      "source": [
        "train_precision = lfm.evaluation.precision_at_k(model, train, item_features=item_features, k=10, num_threads=2).mean()\n",
        "test_precision  = lfm.evaluation.precision_at_k(model, test,  item_features=item_features, k=10, num_threads=2).mean()\n",
        "print('Precision en train: {}'.format(train_precision))\n",
        "print('Precision en test: {}'.format(test_precision))"
      ],
      "execution_count": null,
      "outputs": []
    },
    {
      "cell_type": "markdown",
      "metadata": {
        "id": "Pj4AtQUSrBQX"
      },
      "source": [
        "# Predicción"
      ]
    },
    {
      "cell_type": "code",
      "metadata": {
        "id": "2n5N-VfrrQfw"
      },
      "source": [
        "# consigo los mapeos creados por el modelo // el modelo a cada libro/user le crea un ID\n",
        "user_id_mapping, user_feature_mapping, item_id_mapping, item_feature_mapping = ds.mapping()\n",
        "user_id_mapping\n",
        "#item_id_mapping"
      ],
      "execution_count": null,
      "outputs": []
    },
    {
      "cell_type": "code",
      "source": [
        "model = lfm.LightFM(no_components=20)\n",
        "model.fit(interactions=interactions, sample_weight=weights, item_features=item_features, epochs=10, num_threads=2)"
      ],
      "metadata": {
        "id": "hDBQZirZTcum"
      },
      "execution_count": null,
      "outputs": []
    },
    {
      "cell_type": "code",
      "metadata": {
        "id": "1BEgst84ukVR"
      },
      "source": [
        "#ESTA ES UNA PRUEBA CON UN USER Y DOS LIBROS, PERO YO DEBERÍA PASARLE TODOS LOS LIBROS QUE NO LEYÓ\n",
        "#ESTE ES UNA PREDICCIÓN DE \"ESTRELLITAS\"\n",
        "#ESTE ES UN MÉTODO MÁS RAPIDO\n",
        "ID_LECTOR = \"c3po\"\n",
        "IDS_LIBROS = [\"yerma\", \"watchmen\"] # todos los items\n",
        "\n",
        "#user_id_mapping[ID_LECTOR]\n",
        "#np.array([item_id_mapping[m] for m in IDS_LIBROS])\n",
        "model.predict(user_id_mapping[ID_LECTOR], np.array([item_id_mapping[m] for m in IDS_LIBROS]), item_features=item_features, num_threads=2)"
      ],
      "execution_count": null,
      "outputs": []
    },
    {
      "cell_type": "code",
      "source": [
        "# PARA VER\n",
        "#ESTA ES UNA PREDICCIÓN DE RANKING // ESTE ES UN MÉTODO QUE SIRVE MÁS PARA POCOS USERS, PERO MAS LENTO SI HACES MUCHAS PREDICCIONES\n",
        "model.predict_rank(interactions, item_features=item_features, num_threads=2, check_intersections=True)"
      ],
      "metadata": {
        "id": "8CdK90itrcWq"
      },
      "execution_count": null,
      "outputs": []
    },
    {
      "cell_type": "code",
      "source": [
        "# https://making.lyst.com/lightfm/docs/lightfm.html"
      ],
      "metadata": {
        "id": "Luwg6dQO8Hmb"
      },
      "execution_count": null,
      "outputs": []
    }
  ]
}